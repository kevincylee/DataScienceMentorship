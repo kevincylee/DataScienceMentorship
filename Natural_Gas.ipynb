{
  "nbformat": 4,
  "nbformat_minor": 0,
  "metadata": {
    "colab": {
      "provenance": [],
      "authorship_tag": "ABX9TyOYJ5bNUKw40Im3sUK0c6hM",
      "include_colab_link": true
    },
    "kernelspec": {
      "name": "python3",
      "display_name": "Python 3"
    },
    "language_info": {
      "name": "python"
    }
  },
  "cells": [
    {
      "cell_type": "markdown",
      "metadata": {
        "id": "view-in-github",
        "colab_type": "text"
      },
      "source": [
        "<a href=\"https://colab.research.google.com/github/kevincylee/DataScienceMentorship/blob/main/Natural_Gas.ipynb\" target=\"_parent\"><img src=\"https://colab.research.google.com/assets/colab-badge.svg\" alt=\"Open In Colab\"/></a>"
      ]
    },
    {
      "cell_type": "code",
      "execution_count": 13,
      "metadata": {
        "id": "QdO4PFOHPh6G"
      },
      "outputs": [],
      "source": [
        "# Source: https://economicdashboard.alberta.ca/dashboard/natural-gas-price/#section2\n",
        "\n",
        "import pandas as pd\n",
        "import requests\n",
        "import json\n",
        "\n",
        "api_url = 'https://api.economicdata.alberta.ca/api/data?code=1d7cea03-8cd1-497f-8f62-bc62de9a1b7a'\n",
        "\n",
        "response_API = requests.get(api_url)\n",
        "json_data = response_API.json()\n",
        "df = pd.json_normalize(json_data)\n",
        "\n",
        "df.to_csv('Alberta Natural Gas Price $ per GJ - Monthly.csv', index=False)"
      ]
    }
  ]
}