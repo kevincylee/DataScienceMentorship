{
 "cells": [
  {
   "cell_type": "code",
   "execution_count": 12,
   "metadata": {},
   "outputs": [],
   "source": [
    "import os\n",
    "import pandas as pd\n",
    "import matplotlib.pyplot as plt"
   ]
  },
  {
   "cell_type": "code",
   "execution_count": 13,
   "metadata": {},
   "outputs": [],
   "source": [
    "# Specify the folder containing weather data files\n",
    "data_folder = \"weather_data\"\n",
    "\n",
    "# Create the \"Temperature_plot\" folder\n",
    "os.makedirs(\"aggregated_weather_data\", exist_ok=True)\n",
    "\n",
    "# Initialize a dictionary to store data for each city\n",
    "city_data = {}"
   ]
  },
  {
   "cell_type": "code",
   "execution_count": 14,
   "metadata": {},
   "outputs": [],
   "source": [
    "# Iterate through each file in the folder\n",
    "for filename in os.listdir(data_folder):\n",
    "    if filename.endswith(\".csv\"):\n",
    "        filepath = os.path.join(data_folder, filename)\n",
    "        filename_without_extension = os.path.splitext(os.path.basename(filepath))[0]\n",
    "        city_name, year = filename_without_extension.split(\"_\")[0], filename_without_extension.split(\"_\")[1]  # Extract city name and year\n",
    "\n",
    "        # Read the CSV file into a DataFrame object\n",
    "        df = pd.read_csv(filepath, encoding=\"cp1252\")\n",
    "\n",
    "        # Drop some columns by name\n",
    "        df = df.drop(columns=['Temp Flag', 'Dew Point Temp Flag', 'Rel Hum Flag', 'Precip. Amount (mm)', 'Precip. Amount Flag',\n",
    "                              'Wind Dir Flag', 'Wind Spd Flag', 'Visibility Flag', 'Stn Press Flag', 'Hmdx', 'Hmdx Flag', 'Wind Chill Flag'])\n",
    "        df[\"Date\"] = pd.to_datetime(df[[\"Year\", \"Month\", \"Day\"]])\n",
    "\n",
    "        # If the city is not in the dictionary, initialize a new DataFrame for it\n",
    "        if city_name not in city_data:\n",
    "            city_data[city_name] = df\n",
    "        else:\n",
    "            # Concatenate the new data with the existing DataFrame for the city\n",
    "            city_data[city_name] = pd.concat([city_data[city_name], df], ignore_index=True)"
   ]
  },
  {
   "cell_type": "code",
   "execution_count": 15,
   "metadata": {},
   "outputs": [
    {
     "name": "stdout",
     "output_type": "stream",
     "text": [
      "Combined CSVs saved and plots created successfully!\n"
     ]
    }
   ],
   "source": [
    "# Save the combined data for each city into a single CSV and create a plot\n",
    "for city, data in city_data.items():\n",
    "    # Group by date and get the maximum and minimum temperature\n",
    "    df_max = data.groupby(\"Date\")[\"Temp (°C)\"].max()\n",
    "    df_min = data.groupby(\"Date\")[\"Temp (°C)\"].min()\n",
    "\n",
    "    # Save to CSV\n",
    "    combined_csv_path = f\"aggregated_weather_data/{city}_aggregated_weather.csv\"\n",
    "    data.to_csv(combined_csv_path, index=False)\n",
    "    \n",
    "    # Create a plot for the city\n",
    "    plt.figure(figsize=(10, 6))\n",
    "    plt.plot(df_max.index, df_max, color='r', label='Maximum Temperature')\n",
    "    plt.plot(df_min.index, df_min, color='b', label='Minimum Temperature')\n",
    "    plt.xlabel(\"Date\")\n",
    "    plt.ylabel(\"Temperature (°C)\")\n",
    "    plt.title(f\"Maximum and Minimum Temperature Over Time in {city}\")\n",
    "    plt.grid()\n",
    "    plt.legend()\n",
    "    plt.savefig(f\"aggregated_weather_data/{city}_temperature_plot.png\")  # Save the plot as an image\n",
    "    plt.close()  # Close the current plot to create a new one\n",
    "\n",
    "print(\"Combined CSVs saved and plots created successfully!\")"
   ]
  }
 ],
 "metadata": {
  "kernelspec": {
   "display_name": "Python 3",
   "language": "python",
   "name": "python3"
  },
  "language_info": {
   "codemirror_mode": {
    "name": "ipython",
    "version": 3
   },
   "file_extension": ".py",
   "mimetype": "text/x-python",
   "name": "python",
   "nbconvert_exporter": "python",
   "pygments_lexer": "ipython3",
   "version": "3.12.2"
  }
 },
 "nbformat": 4,
 "nbformat_minor": 2
}
